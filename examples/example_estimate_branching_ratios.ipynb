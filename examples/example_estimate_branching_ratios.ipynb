{
 "cells": [
  {
   "cell_type": "markdown",
   "metadata": {},
   "source": [
    "# Estimate branching ratios\n",
    "\n",
    "Between LS coupling states. Useful when only the lifetime of a state is known and not the decay rates into final states. Estimates the ratio of dipole matrix elements between a slection of states, using the parity selection rule for the electron configuration and angular momentum selection."
   ]
  },
  {
   "cell_type": "markdown",
   "metadata": {},
   "source": [
    "import dictionary of atomic states and their energies"
   ]
  },
  {
   "cell_type": "code",
   "execution_count": 4,
   "metadata": {},
   "outputs": [],
   "source": [
    "from lightshifts import Atom\n",
    "yb = Atom.from_json('atom_yb173.json')"
   ]
  },
  {
   "cell_type": "markdown",
   "metadata": {},
   "source": [
    "give a list of branching ratios of an initial state state_i into all energetically lower lying states in the imported state library"
   ]
  },
  {
   "cell_type": "code",
   "execution_count": 5,
   "metadata": {},
   "outputs": [
    {
     "name": "stdout",
     "output_type": "stream",
     "text": [
      "branching ratio into  ('6s6p', '3P0') = 0.6387527684341578\n",
      "branching ratio into  ('6s6p', '3P1') = 0.3519121426242965\n",
      "branching ratio into  ('6s6p', '3P2') = 0.009335088941545725\n"
     ]
    },
    {
     "data": {
      "text/plain": [
       "{('6s6s', '1S0'): 0.0,\n",
       " ('6s6p', '3P0'): 0.6387527684341578,\n",
       " ('6s6p', '3P1'): 0.3519121426242965,\n",
       " ('6s6p', '3P2'): 0.009335088941545725}"
      ]
     },
     "execution_count": 5,
     "metadata": {},
     "output_type": "execute_result"
    }
   ],
   "source": [
    "state_i = ('6s5d','3D1')\n",
    "yb.branching_ratios_LS_dict(state_i, verbose=True)"
   ]
  },
  {
   "cell_type": "markdown",
   "metadata": {},
   "source": [
    "calculate branching into one single final state"
   ]
  },
  {
   "cell_type": "code",
   "execution_count": 6,
   "metadata": {},
   "outputs": [
    {
     "name": "stdout",
     "output_type": "stream",
     "text": [
      "branching ratio into  ('6s6p', '3P0') = 0.6387527684341578\n",
      "branching ratio into  ('6s6p', '3P1') = 0.3519121426242965\n",
      "branching ratio into  ('6s6p', '3P2') = 0.009335088941545725\n",
      "('6s5d', '3D1') -> ('6s6p', '3P0'): 0.6388\n"
     ]
    }
   ],
   "source": [
    "state_i = ('6s5d','3D1')\n",
    "state_f = ('6s6p','3P0')\n",
    "yb.branching_ratio_LS(state_i, state_f, verbose=True);"
   ]
  }
 ],
 "metadata": {
  "kernelspec": {
   "display_name": ".venv",
   "language": "python",
   "name": "python3"
  },
  "language_info": {
   "codemirror_mode": {
    "name": "ipython",
    "version": 3
   },
   "file_extension": ".py",
   "mimetype": "text/x-python",
   "name": "python",
   "nbconvert_exporter": "python",
   "pygments_lexer": "ipython3",
   "version": "3.13.2"
  }
 },
 "nbformat": 4,
 "nbformat_minor": 2
}
